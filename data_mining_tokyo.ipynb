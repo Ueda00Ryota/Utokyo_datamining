{
 "cells": [
  {
   "cell_type": "markdown",
   "metadata": {},
   "source": [
    "# 東京大学　データマイニング入門"
   ]
  },
  {
   "cell_type": "markdown",
   "metadata": {},
   "source": [
    "## 課題3 データの前処理と可視化"
   ]
  },
  {
   "cell_type": "code",
   "execution_count": 1,
   "metadata": {},
   "outputs": [],
   "source": [
    "import pandas as pd\n",
    "import numpy as np\n",
    "import matplotlib.pyplot as plt"
   ]
  },
  {
   "cell_type": "markdown",
   "metadata": {},
   "source": [
    "### Q1,欠損値の処理\n",
    "pandasのシリーズやデータフレームではデータに欠損値（例えば数値データ内の空値）が含\n",
    "まれる場合、欠損値が NaN となります。以下では欠損値（空値）を含む得点データのcsvフ\n",
    "ァイル, 'score_missing.csv', を読み込み、データフレーム score を作成"
   ]
  },
  {
   "cell_type": "code",
   "execution_count": 3,
   "metadata": {},
   "outputs": [
    {
     "data": {
      "text/html": [
       "<div>\n",
       "<style scoped>\n",
       "    .dataframe tbody tr th:only-of-type {\n",
       "        vertical-align: middle;\n",
       "    }\n",
       "\n",
       "    .dataframe tbody tr th {\n",
       "        vertical-align: top;\n",
       "    }\n",
       "\n",
       "    .dataframe thead th {\n",
       "        text-align: right;\n",
       "    }\n",
       "</style>\n",
       "<table border=\"1\" class=\"dataframe\">\n",
       "  <thead>\n",
       "    <tr style=\"text-align: right;\">\n",
       "      <th></th>\n",
       "      <th>kokugo</th>\n",
       "      <th>shakai</th>\n",
       "      <th>sugaku</th>\n",
       "      <th>raka</th>\n",
       "    </tr>\n",
       "  </thead>\n",
       "  <tbody>\n",
       "    <tr>\n",
       "      <th>0</th>\n",
       "      <td>30.0</td>\n",
       "      <td>43.0</td>\n",
       "      <td>51</td>\n",
       "      <td>NaN</td>\n",
       "    </tr>\n",
       "    <tr>\n",
       "      <th>1</th>\n",
       "      <td>39.0</td>\n",
       "      <td>21.0</td>\n",
       "      <td>50</td>\n",
       "      <td>56.0</td>\n",
       "    </tr>\n",
       "    <tr>\n",
       "      <th>2</th>\n",
       "      <td>NaN</td>\n",
       "      <td>NaN</td>\n",
       "      <td>23</td>\n",
       "      <td>57.0</td>\n",
       "    </tr>\n",
       "    <tr>\n",
       "      <th>3</th>\n",
       "      <td>29.0</td>\n",
       "      <td>87.0</td>\n",
       "      <td>77</td>\n",
       "      <td>100.0</td>\n",
       "    </tr>\n",
       "    <tr>\n",
       "      <th>4</th>\n",
       "      <td>70.0</td>\n",
       "      <td>71.0</td>\n",
       "      <td>78</td>\n",
       "      <td>67.0</td>\n",
       "    </tr>\n",
       "    <tr>\n",
       "      <th>5</th>\n",
       "      <td>66.0</td>\n",
       "      <td>NaN</td>\n",
       "      <td>53</td>\n",
       "      <td>NaN</td>\n",
       "    </tr>\n",
       "    <tr>\n",
       "      <th>6</th>\n",
       "      <td>29.0</td>\n",
       "      <td>26.0</td>\n",
       "      <td>44</td>\n",
       "      <td>52.0</td>\n",
       "    </tr>\n",
       "    <tr>\n",
       "      <th>7</th>\n",
       "      <td>NaN</td>\n",
       "      <td>54.0</td>\n",
       "      <td>37</td>\n",
       "      <td>59.0</td>\n",
       "    </tr>\n",
       "    <tr>\n",
       "      <th>8</th>\n",
       "      <td>45.0</td>\n",
       "      <td>NaN</td>\n",
       "      <td>7</td>\n",
       "      <td>44.0</td>\n",
       "    </tr>\n",
       "    <tr>\n",
       "      <th>9</th>\n",
       "      <td>68.0</td>\n",
       "      <td>41.0</td>\n",
       "      <td>29</td>\n",
       "      <td>81.0</td>\n",
       "    </tr>\n",
       "  </tbody>\n",
       "</table>\n",
       "</div>"
      ],
      "text/plain": [
       "   kokugo   shakai  sugaku   raka\n",
       "0     30.0    43.0      51    NaN\n",
       "1     39.0    21.0      50   56.0\n",
       "2      NaN     NaN      23   57.0\n",
       "3     29.0    87.0      77  100.0\n",
       "4     70.0    71.0      78   67.0\n",
       "5     66.0     NaN      53    NaN\n",
       "6     29.0    26.0      44   52.0\n",
       "7      NaN    54.0      37   59.0\n",
       "8     45.0     NaN       7   44.0\n",
       "9     68.0    41.0      29   81.0"
      ]
     },
     "execution_count": 3,
     "metadata": {},
     "output_type": "execute_result"
    }
   ],
   "source": [
    "score = pd.read_csv(\"missing_score.csv\")\n",
    "score"
   ]
  },
  {
   "cell_type": "markdown",
   "metadata": {},
   "source": [
    "欠損値を抽出する"
   ]
  },
  {
   "cell_type": "code",
   "execution_count": 6,
   "metadata": {},
   "outputs": [
    {
     "data": {
      "text/html": [
       "<div>\n",
       "<style scoped>\n",
       "    .dataframe tbody tr th:only-of-type {\n",
       "        vertical-align: middle;\n",
       "    }\n",
       "\n",
       "    .dataframe tbody tr th {\n",
       "        vertical-align: top;\n",
       "    }\n",
       "\n",
       "    .dataframe thead th {\n",
       "        text-align: right;\n",
       "    }\n",
       "</style>\n",
       "<table border=\"1\" class=\"dataframe\">\n",
       "  <thead>\n",
       "    <tr style=\"text-align: right;\">\n",
       "      <th></th>\n",
       "      <th>kokugo</th>\n",
       "      <th>shakai</th>\n",
       "      <th>sugaku</th>\n",
       "      <th>raka</th>\n",
       "    </tr>\n",
       "  </thead>\n",
       "  <tbody>\n",
       "    <tr>\n",
       "      <th>0</th>\n",
       "      <td>30.0</td>\n",
       "      <td>43.0</td>\n",
       "      <td>51</td>\n",
       "      <td>NaN</td>\n",
       "    </tr>\n",
       "    <tr>\n",
       "      <th>2</th>\n",
       "      <td>NaN</td>\n",
       "      <td>NaN</td>\n",
       "      <td>23</td>\n",
       "      <td>57.0</td>\n",
       "    </tr>\n",
       "    <tr>\n",
       "      <th>5</th>\n",
       "      <td>66.0</td>\n",
       "      <td>NaN</td>\n",
       "      <td>53</td>\n",
       "      <td>NaN</td>\n",
       "    </tr>\n",
       "    <tr>\n",
       "      <th>7</th>\n",
       "      <td>NaN</td>\n",
       "      <td>54.0</td>\n",
       "      <td>37</td>\n",
       "      <td>59.0</td>\n",
       "    </tr>\n",
       "    <tr>\n",
       "      <th>8</th>\n",
       "      <td>45.0</td>\n",
       "      <td>NaN</td>\n",
       "      <td>7</td>\n",
       "      <td>44.0</td>\n",
       "    </tr>\n",
       "  </tbody>\n",
       "</table>\n",
       "</div>"
      ],
      "text/plain": [
       "   kokugo   shakai  sugaku  raka\n",
       "0     30.0    43.0      51   NaN\n",
       "2      NaN     NaN      23  57.0\n",
       "5     66.0     NaN      53   NaN\n",
       "7      NaN    54.0      37  59.0\n",
       "8     45.0     NaN       7  44.0"
      ]
     },
     "execution_count": 6,
     "metadata": {},
     "output_type": "execute_result"
    }
   ],
   "source": [
    "# データフレームから欠損地を含む行を抽出\n",
    "score[score.isnull().any(axis=1)]"
   ]
  },
  {
   "cell_type": "code",
   "execution_count": 7,
   "metadata": {},
   "outputs": [
    {
     "data": {
      "text/html": [
       "<div>\n",
       "<style scoped>\n",
       "    .dataframe tbody tr th:only-of-type {\n",
       "        vertical-align: middle;\n",
       "    }\n",
       "\n",
       "    .dataframe tbody tr th {\n",
       "        vertical-align: top;\n",
       "    }\n",
       "\n",
       "    .dataframe thead th {\n",
       "        text-align: right;\n",
       "    }\n",
       "</style>\n",
       "<table border=\"1\" class=\"dataframe\">\n",
       "  <thead>\n",
       "    <tr style=\"text-align: right;\">\n",
       "      <th></th>\n",
       "      <th>kokugo</th>\n",
       "      <th>shakai</th>\n",
       "      <th>raka</th>\n",
       "    </tr>\n",
       "  </thead>\n",
       "  <tbody>\n",
       "    <tr>\n",
       "      <th>0</th>\n",
       "      <td>30.0</td>\n",
       "      <td>43.0</td>\n",
       "      <td>NaN</td>\n",
       "    </tr>\n",
       "    <tr>\n",
       "      <th>1</th>\n",
       "      <td>39.0</td>\n",
       "      <td>21.0</td>\n",
       "      <td>56.0</td>\n",
       "    </tr>\n",
       "    <tr>\n",
       "      <th>2</th>\n",
       "      <td>NaN</td>\n",
       "      <td>NaN</td>\n",
       "      <td>57.0</td>\n",
       "    </tr>\n",
       "    <tr>\n",
       "      <th>3</th>\n",
       "      <td>29.0</td>\n",
       "      <td>87.0</td>\n",
       "      <td>100.0</td>\n",
       "    </tr>\n",
       "    <tr>\n",
       "      <th>4</th>\n",
       "      <td>70.0</td>\n",
       "      <td>71.0</td>\n",
       "      <td>67.0</td>\n",
       "    </tr>\n",
       "    <tr>\n",
       "      <th>5</th>\n",
       "      <td>66.0</td>\n",
       "      <td>NaN</td>\n",
       "      <td>NaN</td>\n",
       "    </tr>\n",
       "    <tr>\n",
       "      <th>6</th>\n",
       "      <td>29.0</td>\n",
       "      <td>26.0</td>\n",
       "      <td>52.0</td>\n",
       "    </tr>\n",
       "    <tr>\n",
       "      <th>7</th>\n",
       "      <td>NaN</td>\n",
       "      <td>54.0</td>\n",
       "      <td>59.0</td>\n",
       "    </tr>\n",
       "    <tr>\n",
       "      <th>8</th>\n",
       "      <td>45.0</td>\n",
       "      <td>NaN</td>\n",
       "      <td>44.0</td>\n",
       "    </tr>\n",
       "    <tr>\n",
       "      <th>9</th>\n",
       "      <td>68.0</td>\n",
       "      <td>41.0</td>\n",
       "      <td>81.0</td>\n",
       "    </tr>\n",
       "  </tbody>\n",
       "</table>\n",
       "</div>"
      ],
      "text/plain": [
       "   kokugo   shakai   raka\n",
       "0     30.0    43.0    NaN\n",
       "1     39.0    21.0   56.0\n",
       "2      NaN     NaN   57.0\n",
       "3     29.0    87.0  100.0\n",
       "4     70.0    71.0   67.0\n",
       "5     66.0     NaN    NaN\n",
       "6     29.0    26.0   52.0\n",
       "7      NaN    54.0   59.0\n",
       "8     45.0     NaN   44.0\n",
       "9     68.0    41.0   81.0"
      ]
     },
     "execution_count": 7,
     "metadata": {},
     "output_type": "execute_result"
    }
   ],
   "source": [
    "# データフレームから欠損地を含む列を抽出\n",
    "score.loc[:,score.isnull().any()]"
   ]
  },
  {
   "cell_type": "markdown",
   "metadata": {},
   "source": [
    "欠損値の補完\n",
    "\n",
    "pandasの fillna() メソッドを使うと欠損値を補完することができます。以下では、欠損値\n",
    "が含まれる列の欠損がない要素の値の平均値でその列にある欠損値を補完していま\n",
    "す。"
   ]
  },
  {
   "cell_type": "code",
   "execution_count": 8,
   "metadata": {},
   "outputs": [
    {
     "data": {
      "text/html": [
       "<div>\n",
       "<style scoped>\n",
       "    .dataframe tbody tr th:only-of-type {\n",
       "        vertical-align: middle;\n",
       "    }\n",
       "\n",
       "    .dataframe tbody tr th {\n",
       "        vertical-align: top;\n",
       "    }\n",
       "\n",
       "    .dataframe thead th {\n",
       "        text-align: right;\n",
       "    }\n",
       "</style>\n",
       "<table border=\"1\" class=\"dataframe\">\n",
       "  <thead>\n",
       "    <tr style=\"text-align: right;\">\n",
       "      <th></th>\n",
       "      <th>kokugo</th>\n",
       "      <th>shakai</th>\n",
       "      <th>sugaku</th>\n",
       "      <th>raka</th>\n",
       "    </tr>\n",
       "  </thead>\n",
       "  <tbody>\n",
       "    <tr>\n",
       "      <th>0</th>\n",
       "      <td>30.0</td>\n",
       "      <td>43.0</td>\n",
       "      <td>51</td>\n",
       "      <td>64.5</td>\n",
       "    </tr>\n",
       "    <tr>\n",
       "      <th>1</th>\n",
       "      <td>39.0</td>\n",
       "      <td>21.0</td>\n",
       "      <td>50</td>\n",
       "      <td>56.0</td>\n",
       "    </tr>\n",
       "    <tr>\n",
       "      <th>2</th>\n",
       "      <td>47.0</td>\n",
       "      <td>49.0</td>\n",
       "      <td>23</td>\n",
       "      <td>57.0</td>\n",
       "    </tr>\n",
       "    <tr>\n",
       "      <th>3</th>\n",
       "      <td>29.0</td>\n",
       "      <td>87.0</td>\n",
       "      <td>77</td>\n",
       "      <td>100.0</td>\n",
       "    </tr>\n",
       "    <tr>\n",
       "      <th>4</th>\n",
       "      <td>70.0</td>\n",
       "      <td>71.0</td>\n",
       "      <td>78</td>\n",
       "      <td>67.0</td>\n",
       "    </tr>\n",
       "    <tr>\n",
       "      <th>5</th>\n",
       "      <td>66.0</td>\n",
       "      <td>49.0</td>\n",
       "      <td>53</td>\n",
       "      <td>64.5</td>\n",
       "    </tr>\n",
       "    <tr>\n",
       "      <th>6</th>\n",
       "      <td>29.0</td>\n",
       "      <td>26.0</td>\n",
       "      <td>44</td>\n",
       "      <td>52.0</td>\n",
       "    </tr>\n",
       "    <tr>\n",
       "      <th>7</th>\n",
       "      <td>47.0</td>\n",
       "      <td>54.0</td>\n",
       "      <td>37</td>\n",
       "      <td>59.0</td>\n",
       "    </tr>\n",
       "    <tr>\n",
       "      <th>8</th>\n",
       "      <td>45.0</td>\n",
       "      <td>49.0</td>\n",
       "      <td>7</td>\n",
       "      <td>44.0</td>\n",
       "    </tr>\n",
       "    <tr>\n",
       "      <th>9</th>\n",
       "      <td>68.0</td>\n",
       "      <td>41.0</td>\n",
       "      <td>29</td>\n",
       "      <td>81.0</td>\n",
       "    </tr>\n",
       "  </tbody>\n",
       "</table>\n",
       "</div>"
      ],
      "text/plain": [
       "   kokugo   shakai  sugaku   raka\n",
       "0     30.0    43.0      51   64.5\n",
       "1     39.0    21.0      50   56.0\n",
       "2     47.0    49.0      23   57.0\n",
       "3     29.0    87.0      77  100.0\n",
       "4     70.0    71.0      78   67.0\n",
       "5     66.0    49.0      53   64.5\n",
       "6     29.0    26.0      44   52.0\n",
       "7     47.0    54.0      37   59.0\n",
       "8     45.0    49.0       7   44.0\n",
       "9     68.0    41.0      29   81.0"
      ]
     },
     "execution_count": 8,
     "metadata": {},
     "output_type": "execute_result"
    }
   ],
   "source": [
    "score = pd.read_csv(\"missing_score.csv\")\n",
    "score.fillna(score.mean())"
   ]
  },
  {
   "cell_type": "markdown",
   "metadata": {},
   "source": [
    "Q1.1\n",
    "\n",
    "\n",
    "欠損値（空値）を含む得点データのcsvファイル, 'score_missing.csv', を読み込み作成したデ\n",
    "ータフレームを受け取り、各列の欠損値をその列の欠損がない要素の値の中央値で補完した\n",
    "データフレームを返す fill_median() 関数を完成させてください。"
   ]
  },
  {
   "cell_type": "code",
   "execution_count": 12,
   "metadata": {},
   "outputs": [],
   "source": [
    "score = pd.read_csv(\"missing_score.csv\")\n",
    "def fill_median(df):\n",
    "  return df.fillna(score.median())"
   ]
  },
  {
   "cell_type": "code",
   "execution_count": 13,
   "metadata": {},
   "outputs": [
    {
     "data": {
      "text/plain": [
       "2013.0"
      ]
     },
     "execution_count": 13,
     "metadata": {},
     "output_type": "execute_result"
    }
   ],
   "source": [
    "fill_median(score).sum().sum()"
   ]
  },
  {
   "cell_type": "markdown",
   "metadata": {},
   "source": [
    "### Q2 外れ値の処理\n",
    "NumPyでの記述統計\n",
    "\n",
    "\n",
    "以下では、次のような形式の\"exam_score.csv\"ファイルを読み込み、NumPyの配列を作成\n",
    "し、NumPyの関数または ndarray オブジェクトのメソッドを用いて、配列の記述統計を求\n",
    "めています。"
   ]
  },
  {
   "cell_type": "code",
   "execution_count": 19,
   "metadata": {},
   "outputs": [
    {
     "name": "stdout",
     "output_type": "stream",
     "text": [
      "置換完了\n"
     ]
    }
   ],
   "source": [
    "#pdfからcsvにしたのでコンマ区切りに変換\n",
    "import re\n",
    " \n",
    "with open('exam_score.csv', 'r', newline='') as file,open('exam_score_out.csv', 'w', newline='') as fileout:\n",
    "        text = re.sub(r's* ', ',', file.read())\n",
    "        print(text, file = fileout)\n",
    "        print('置換完了')"
   ]
  },
  {
   "cell_type": "code",
   "execution_count": 20,
   "metadata": {},
   "outputs": [],
   "source": [
    "# csvファイルからnumPy配列の作成\n",
    "score = np.loadtxt('exam_score_out.csv',delimiter=\",\",skiprows=1)"
   ]
  },
  {
   "cell_type": "code",
   "execution_count": 21,
   "metadata": {},
   "outputs": [
    {
     "name": "stdout",
     "output_type": "stream",
     "text": [
      "[52.3313253  39.60240964 45.61445783 49.88554217]\n",
      "[473.93239222 457.60095805 583.85135724 455.54714037]\n",
      "[53. 35. 43. 49.]\n",
      "[ 96.  90. 100. 100.]\n",
      "[0. 4. 0. 9.]\n"
     ]
    }
   ],
   "source": [
    "# NumPyの関数で配列の各列の平均、分散、中央値、最大、最小を求める\n",
    "print(np.mean(score, axis=0)) # 平均\n",
    "print(np.var(score, axis=0)) # 分散\n",
    "print(np.median(score, axis=0)) # 中央値\n",
    "print(np.amax(score, axis=0)) # 最大値\n",
    "print(np.amin(score, axis=0)) # 最小値"
   ]
  },
  {
   "cell_type": "code",
   "execution_count": 22,
   "metadata": {},
   "outputs": [
    {
     "name": "stdout",
     "output_type": "stream",
     "text": [
      "[52.3313253  39.60240964 45.61445783 49.88554217]\n",
      "[473.93239222 457.60095805 583.85135724 455.54714037]\n",
      "[ 96.  90. 100. 100.]\n",
      "[0. 4. 0. 9.]\n"
     ]
    }
   ],
   "source": [
    "# ndarrayのメソッドで配列の各列の平均、分散、最大、最小を求める\n",
    "print(score.mean(0)) # 平均\n",
    "print(score.var(0)) # 分散\n",
    "print(score.max(0)) # 最大値\n",
    "print(score.min(0)) # 最小値"
   ]
  },
  {
   "cell_type": "markdown",
   "metadata": {},
   "source": [
    "Q2.1\n",
    "\n",
    "整数を要素とする任意の長さの1次元配列を入力として受け取り、配列の要素の値の中で、以\n",
    "下の外れ値の基準にあてはまる要素からなる1次元配列を返す find_outliers() 関数を完\n",
    "成させてください。なお、IQRは四分位範囲であり、第3四分位から第1四分位を引いた値で\n",
    "す。\n",
    "\n",
    "（第1四分位-1.5IQR）を値の下限としてそれより小さい値は外れ値とする\n",
    "\n",
    "\n",
    "（第3四分位+1.5IQR）を値の上限としてそれより大きい値は外れ値とする\n",
    "\n",
    "\n",
    "配列の第1四分位と第3四分位は、NumPyの percentile() 関数を用いて以下のように求め\n",
    "られる。\n",
    "\n",
    "\n",
    "第1四分位, 第3四分位=np.percentile(配列, [25, 75])"
   ]
  },
  {
   "cell_type": "code",
   "execution_count": 31,
   "metadata": {},
   "outputs": [
    {
     "name": "stdout",
     "output_type": "stream",
     "text": [
      "[-100, 200, 1000]\n"
     ]
    }
   ],
   "source": [
    "def find_outliers(input_array):\n",
    "  first_range ,third_range = np.percentile(input_array,[25,75])\n",
    "  IQR = 1.5 * (third_range - first_range)\n",
    "  min_score = first_range - IQR  #下限外れ値\n",
    "  max_score = third_range + IQR  #上限外れ値\n",
    "  output =[]\n",
    "  for w in input_array :\n",
    "    if w < min_score or w > max_score :\n",
    "      output.append(w)\n",
    "  print(output)\n",
    "  \n",
    "find_outliers(np.array([30,39,-100,29,95,70,67,200,29,1000,56,45,68]))"
   ]
  },
  {
   "cell_type": "markdown",
   "metadata": {},
   "source": [
    "Q2.2\n",
    "\n",
    "score を受け取り、各列ごとに、Q2.1と同様に四分位範囲, 第3四分位, 第1四分位を用いて\n",
    "外れ値を検出し、外れ値を含む行を除いたデータフレームを返す関数 drop_outliers() を\n",
    "完成させてください。"
   ]
  },
  {
   "cell_type": "code",
   "execution_count": 32,
   "metadata": {},
   "outputs": [
    {
     "name": "stdout",
     "output_type": "stream",
     "text": [
      "置換完了\n"
     ]
    }
   ],
   "source": [
    "#pdfからcsvにしたのでコンマ区切りに変換\n",
    "import re\n",
    " \n",
    "with open('score_outlier.csv', 'r', newline='') as file,open('score_outlier_out.csv', 'w', newline='') as fileout:\n",
    "        text = re.sub(r's* ', ',', file.read())\n",
    "        print(text, file = fileout)\n",
    "        print('置換完了')"
   ]
  },
  {
   "cell_type": "markdown",
   "metadata": {},
   "source": [
    "悩むポイント\n",
    "\n",
    "各行ごとに処理を行う必要、\n",
    "外れ値を含む行を除くコードの記述"
   ]
  },
  {
   "cell_type": "code",
   "execution_count": 74,
   "metadata": {},
   "outputs": [],
   "source": [
    "score = pd.read_csv('score_outlier_out.csv')\n",
    "\n",
    "def drop_outlier(df):\n",
    "  for i in range(len(df.columns)):\n",
    "    col = df.iloc[:,i]\n",
    "    q1 = col.describe()['25%']\n",
    "    q3 = col.describe()['75%']\n",
    "    iqr = q3 - q1 #四分位範囲\n",
    "    min_score = q1 - (iqr) * 1.5   #下限外れ値\n",
    "    max_score = q3 + (iqr) * 1.5  #上限外れ値\n",
    "    # 範囲から外れている値を除く\n",
    "    col[col < min_score] = None\n",
    "    col[col > max_score] = None\n",
    "  df = df.dropna(how='any', axis=0)\n",
    "  return df"
   ]
  },
  {
   "cell_type": "code",
   "execution_count": 75,
   "metadata": {},
   "outputs": [
    {
     "name": "stderr",
     "output_type": "stream",
     "text": [
      "C:\\Users\\user\\AppData\\Local\\Temp\\ipykernel_8568\\323991060.py:12: SettingWithCopyWarning: \n",
      "A value is trying to be set on a copy of a slice from a DataFrame\n",
      "\n",
      "See the caveats in the documentation: https://pandas.pydata.org/pandas-docs/stable/user_guide/indexing.html#returning-a-view-versus-a-copy\n",
      "  col[col < min_score] = None\n",
      "C:\\Users\\user\\AppData\\Local\\Temp\\ipykernel_8568\\323991060.py:13: SettingWithCopyWarning: \n",
      "A value is trying to be set on a copy of a slice from a DataFrame\n",
      "\n",
      "See the caveats in the documentation: https://pandas.pydata.org/pandas-docs/stable/user_guide/indexing.html#returning-a-view-versus-a-copy\n",
      "  col[col > max_score] = None\n",
      "C:\\Users\\user\\AppData\\Local\\Temp\\ipykernel_8568\\323991060.py:12: SettingWithCopyWarning: \n",
      "A value is trying to be set on a copy of a slice from a DataFrame\n",
      "\n",
      "See the caveats in the documentation: https://pandas.pydata.org/pandas-docs/stable/user_guide/indexing.html#returning-a-view-versus-a-copy\n",
      "  col[col < min_score] = None\n",
      "C:\\Users\\user\\AppData\\Local\\Temp\\ipykernel_8568\\323991060.py:12: SettingWithCopyWarning: \n",
      "A value is trying to be set on a copy of a slice from a DataFrame\n",
      "\n",
      "See the caveats in the documentation: https://pandas.pydata.org/pandas-docs/stable/user_guide/indexing.html#returning-a-view-versus-a-copy\n",
      "  col[col < min_score] = None\n",
      "C:\\Users\\user\\AppData\\Local\\Temp\\ipykernel_8568\\323991060.py:13: SettingWithCopyWarning: \n",
      "A value is trying to be set on a copy of a slice from a DataFrame\n",
      "\n",
      "See the caveats in the documentation: https://pandas.pydata.org/pandas-docs/stable/user_guide/indexing.html#returning-a-view-versus-a-copy\n",
      "  col[col > max_score] = None\n"
     ]
    },
    {
     "data": {
      "text/plain": [
       "155"
      ]
     },
     "execution_count": 75,
     "metadata": {},
     "output_type": "execute_result"
    }
   ],
   "source": [
    "len(drop_outlier(score).index)"
   ]
  },
  {
   "cell_type": "markdown",
   "metadata": {},
   "source": [
    "Q2.3\n",
    "\n",
    "\"score_outlier.csv\"ファイルを読み込み、NumPyの配列を作成し、各教科の点数の箱ひげ図を\n",
    "可視化してください"
   ]
  },
  {
   "cell_type": "code",
   "execution_count": 81,
   "metadata": {},
   "outputs": [
    {
     "data": {
      "image/png": "[encoded data removed]",
      "text/plain": [
       "<Figure size 432x288 with 1 Axes>"
      ]
     },
     "metadata": {
      "needs_background": "light"
     },
     "output_type": "display_data"
    }
   ],
   "source": [
    "score = np.loadtxt(\"score_outlier_out.csv\", delimiter=\",\", skiprows=1)\n",
    "\n",
    "fig = plt.figure()\n",
    "ax2 = fig.add_subplot() \n",
    "\n",
    "ax2.boxplot(score)\n",
    "ax2.set_xticklabels(['kokugo','shakai','sugaku','rika'])\n",
    "plt.show()"
   ]
  },
  {
   "cell_type": "markdown",
   "metadata": {},
   "source": [
    "### Q3 標準化"
   ]
  },
  {
   "cell_type": "markdown",
   "metadata": {},
   "source": [
    "以下のような形式の\"exam_score.csv\"ファイルを読み込み、作成したNumPyの配列を受け取\n",
    "り、各教科の点数をその教科の平均値と分散を用いて標準化した配列を返\n",
    "す normalize_score() 関数を完成させてください。平均値と分散の計算には、NumPyの\n",
    "関数またはndarrayオブジェクトのメソッド、どちらを使ってもよいです。また、分散は標本\n",
    "分散としてください"
   ]
  },
  {
   "cell_type": "code",
   "execution_count": 91,
   "metadata": {},
   "outputs": [
    {
     "name": "stdout",
     "output_type": "stream",
     "text": [
      "[-1.65967682  0.5831297   0.94197874  0.13456839]\n"
     ]
    }
   ],
   "source": [
    "# csvファイルからNumPy配列の作成\n",
    "score = np.loadtxt(\"exam_score_out.csv\", delimiter=\",\", skiprows=1)\n",
    "\n",
    "def normalize_score(a):\n",
    "  for i in a:\n",
    "    amean = np.mean( i , axis = None,keepdims=True) # 平均\n",
    "    astd = np.std(i,axis=None, keepdims=True)  # 標準偏差\n",
    "    ascore = (i-amean)/astd  # 標準化\n",
    "  return ascore\n",
    "\n",
    "print(normalize_score(score))"
   ]
  },
  {
   "cell_type": "markdown",
   "metadata": {},
   "source": [
    "pandasでは以下のように簡単に実装できる"
   ]
  },
  {
   "cell_type": "code",
   "execution_count": 88,
   "metadata": {},
   "outputs": [
    {
     "data": {
      "text/html": [
       "<div>\n",
       "<style scoped>\n",
       "    .dataframe tbody tr th:only-of-type {\n",
       "        vertical-align: middle;\n",
       "    }\n",
       "\n",
       "    .dataframe tbody tr th {\n",
       "        vertical-align: top;\n",
       "    }\n",
       "\n",
       "    .dataframe thead th {\n",
       "        text-align: right;\n",
       "    }\n",
       "</style>\n",
       "<table border=\"1\" class=\"dataframe\">\n",
       "  <thead>\n",
       "    <tr style=\"text-align: right;\">\n",
       "      <th></th>\n",
       "      <th>kokugo</th>\n",
       "      <th>shakai</th>\n",
       "      <th>sugaku</th>\n",
       "      <th>rika</th>\n",
       "    </tr>\n",
       "  </thead>\n",
       "  <tbody>\n",
       "    <tr>\n",
       "      <th>0</th>\n",
       "      <td>-1.025785</td>\n",
       "      <td>0.158828</td>\n",
       "      <td>0.222884</td>\n",
       "      <td>0.614446</td>\n",
       "    </tr>\n",
       "    <tr>\n",
       "      <th>1</th>\n",
       "      <td>-0.612372</td>\n",
       "      <td>-0.869612</td>\n",
       "      <td>0.140113</td>\n",
       "      <td>0.286478</td>\n",
       "    </tr>\n",
       "    <tr>\n",
       "      <th>2</th>\n",
       "      <td>-1.071720</td>\n",
       "      <td>-0.448887</td>\n",
       "      <td>-0.935912</td>\n",
       "      <td>0.333331</td>\n",
       "    </tr>\n",
       "    <tr>\n",
       "      <th>3</th>\n",
       "      <td>1.959977</td>\n",
       "      <td>2.215709</td>\n",
       "      <td>1.298908</td>\n",
       "      <td>2.347991</td>\n",
       "    </tr>\n",
       "    <tr>\n",
       "      <th>4</th>\n",
       "      <td>0.811607</td>\n",
       "      <td>1.467753</td>\n",
       "      <td>1.340294</td>\n",
       "      <td>0.801856</td>\n",
       "    </tr>\n",
       "  </tbody>\n",
       "</table>\n",
       "</div>"
      ],
      "text/plain": [
       "     kokugo    shakai    sugaku      rika\n",
       "0 -1.025785  0.158828  0.222884  0.614446\n",
       "1 -0.612372 -0.869612  0.140113  0.286478\n",
       "2 -1.071720 -0.448887 -0.935912  0.333331\n",
       "3  1.959977  2.215709  1.298908  2.347991\n",
       "4  0.811607  1.467753  1.340294  0.801856"
      ]
     },
     "execution_count": 88,
     "metadata": {},
     "output_type": "execute_result"
    }
   ],
   "source": [
    "score_df = pd.read_csv('exam_score_out.csv')\n",
    "((score_df - score_df.mean()) / score_df.std(ddof=0)).head(5)"
   ]
  }
 ],
 "metadata": {
  "kernelspec": {
   "display_name": "Python 3.10.1 64-bit",
   "language": "python",
   "name": "python3"
  },
  "language_info": {
   "codemirror_mode": {
    "name": "ipython",
    "version": 3
   },
   "file_extension": ".py",
   "mimetype": "text/x-python",
   "name": "python",
   "nbconvert_exporter": "python",
   "pygments_lexer": "ipython3",
   "version": "3.10.1"
  },
  "orig_nbformat": 4,
  "vscode": {
   "interpreter": {
    "hash": "fb4569285eef3a3450cb62085a5b1e0da4bce0af555edc33dcf29baf3acc1368"
   }
  }
 },
 "nbformat": 4,
 "nbformat_minor": 2
}
